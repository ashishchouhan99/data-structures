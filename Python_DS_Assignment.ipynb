{
  "nbformat": 4,
  "nbformat_minor": 0,
  "metadata": {
    "colab": {
      "provenance": []
    },
    "kernelspec": {
      "name": "python3",
      "display_name": "Python 3"
    },
    "language_info": {
      "name": "python"
    }
  },
  "cells": [
    {
      "cell_type": "markdown",
      "source": [
        "#PYTHON DATA SCIENCE ASSIGNMENT"
      ],
      "metadata": {
        "id": "79XaOkZx8NfM"
      }
    },
    {
      "cell_type": "markdown",
      "source": [
        "1. What are data structures, and why are they important?\n",
        "  - Data structures are special format to organise , manage\n",
        "   and store data . Data structures allows several operations like inserting new data , deleting data, updating data and traversing in it.\n",
        "  - They are important to store data in an organised way that is efficient for data analysis as well as for data manipulation.\n",
        "2.  Explain the difference between mutable and immutable data types with examples .\n",
        "  - Mutable data types are those data structures that allow data upadation once it has been created . some example of mutable data types are lists and dictionaries.\n",
        "  - Immutable data types are those that dont allow data updation after it has been created once . Some example of immutable data types are tuples , srtings, integers , etc..\n",
        "3. What are the main differences between lists and tuples in Python?\n",
        "  - Lists aand tuples are basically same in python but the only difference between them is that tuples cannot be update after they have been created and can be only traversed in .. Or in technical terms we can say that tuples are immutable and lists are mutable.\n",
        "4.  Describe how dictionaries store data ?\n",
        "  - Dictionary is  a special data type in python that stores data in key value pair format. This mean that each key has a value associated with it .  eg. dictionary={key:value} .\n",
        "5. Why might you use a set instead of a list in Python?\n",
        "  - A set is a data type in python that stores data in unordered manner.. It means that we cannot access data through its index.\n",
        "  A special property of set is that it doesnt store copies of data and hence all elements in the set are unique which isnt the same in lists .\n",
        "6.  What is a string in Python, and how is it different from a list?\n",
        "  - Strings in python is a data type that is immutable and stores data as text enclosed in quotes \"\" .\n",
        "  - Lists  is a data type that stores data of every type in it.. which basically mean that we can store string , integer , bollean, float .etc types of values in the same list . Also the list is a mutable data type which means that we can manupulate data.\n",
        "7. How do tuples ensure data integrity in Python ?\n",
        " - Tuple is  a data type that is immutable in python hence whichever data is stored in it once, it cannot be manipulated with and hence ensures data integrity.\n",
        "8. What is a hash table, and how does it relate to dictionaries in Python?\n",
        " - A hash table is a data structure that stores key-value pairs. It uses a hash function to compute an index (or hash code) for each key, determining where the value associated with that key will be stored in memory.\n",
        " - In python the keys of the dictionary are hased and hence only hashable types of data like integeres , strings , tuples can be stored in the key which are immutabe data type.\n",
        "9.  Can lists contain different data types in Python?\n",
        "- Yes, list is a data type in python that can store any type of data in it .\n",
        "- The data can be mutable and immutable as well .\n",
        "10. Explain why strings are immutable in Python\n",
        " - Python uses a technique called string interning, where certain strings are stored only once in memory and reused to save space.\n",
        " - Also if strings were mutable, modifying one string would affect all references to that string, which could lead to unexpected behavior and memory inconsistencies.\n",
        "11. What advantages do dictionaries offer over lists for certain tasks ?\n",
        " - Dictionaries help us to store data in key value pair which helps in specific scenarios . Unlike list where there is no such thing as key value pair .\n",
        " - Hence if we need to associate one data with other , it is possible in dictionary .\n",
        "12.   Describe a scenario where using a tuple would be preferable over a list\n",
        " - Imagine you want to save permanent data  of users . Doing so in list isnt preferable in list as anyone can change it later . hence tuples can be used which will help to save it as it is immutable data type .\n",
        "13. How do sets handle duplicate values in Python?\n",
        " - sets automatically handle duplicate values by ensuring that each element in the set is unique. When you attempt to add a duplicate value to a set, it is silently ignored, and the set remains unchanged.\n",
        " - Each element's hash value is computed using Python's hash() function .  If an element with the same hash value already exists in the set, the new value is not added, effectively preventing duplicates.\n",
        "14. How does the “in” keyword work differently for lists and dictionaries ?\n",
        " - When you use in with a list, Python checks whether a specific value exists anywhere within the list. Whereas ,\n",
        " - When you use in with a dictionary, Python checks for the presence of a key, not a value. It does not check within the dictionary's values unless explicitly specified.\n",
        "15. Can you modify the elements of a tuple? Explain why or why not ?\n",
        " - No, we cannot modify elements in a tuple because it is a immutable data type in python . It mean it has been coded in a way that it wont allow data manipulation .\n",
        "16. What is a nested dictionary, and give an example of its use case ?\n",
        " - A nested dictionary means that another dictionary is used in the position of value pair .\n",
        " - A simple example is that if we want to store personal details of mutiple people we can store keys as person1 , person2 , etc and values will be the data belinging to that key .\n",
        "17.  Describe the time complexity of accessing elements in a dictionary\n",
        " - The time complexity of accessing an element by key in a dictionary is typically done in constant time, O(1), under normal conditions. This is because the hash table allows for direct indexing of the key, which minimizes the number of operations needed.\n",
        "18. In what situations are lists preferred over dictionaries ?\n",
        " - lists and dictionaries are made for different purpose .. using list is preferable for storing data that is without association .\n",
        " - When you need to access elements by their index or need to loop through items in a specific sequence, a list is more appropriate.\n",
        "19. Why are dictionaries considered unordered, and how does that affect data retrieval ?\n",
        " - In earlier versions of Python ( Python 3.7), dictionaries were considered unordered because they did not guarantee that the order of key-value pairs would be preserved. This means that when you iterated over a dictionary or retrieved its items, the order of the elements was not predictable.\n",
        "20. Explain the difference between a list and a dictionary in terms of data retrieval.\n",
        " - In lists we retrieve data by its index . As the lists store data in sequential ordered manner.\n",
        " - Whereas in dictionary data is retrieved either using key or value . and using key to retrieve is more prefered and also is logical .\n"
      ],
      "metadata": {
        "id": "4fiSlJhk8X5p"
      }
    },
    {
      "cell_type": "code",
      "source": [
        "#1. Write a code to create a string with your name and print it\n",
        "name = \"Hariom Khete\"\n",
        "print (name)\n"
      ],
      "metadata": {
        "colab": {
          "base_uri": "https://localhost:8080/"
        },
        "id": "yKNprxInIyF5",
        "outputId": "ef946e86-af89-4de5-920f-88e322567d70"
      },
      "execution_count": null,
      "outputs": [
        {
          "output_type": "stream",
          "name": "stdout",
          "text": [
            "Hariom Khete\n"
          ]
        }
      ]
    },
    {
      "cell_type": "code",
      "source": [
        "#2.  Write a code to find the length of the string \"Hello World\"\n",
        "string = \"Hello World\"\n",
        "print(len(string))"
      ],
      "metadata": {
        "colab": {
          "base_uri": "https://localhost:8080/"
        },
        "id": "FyFQQf1lJAlG",
        "outputId": "9bbedc0a-e970-4691-ce83-60684904425e"
      },
      "execution_count": null,
      "outputs": [
        {
          "output_type": "stream",
          "name": "stdout",
          "text": [
            "11\n"
          ]
        }
      ]
    },
    {
      "cell_type": "code",
      "source": [
        "#3. Write a code to slice the first 3 characters from the string \"Python Programming\"\n",
        "string = \"Python Programming\"\n",
        "print(string[0:3])"
      ],
      "metadata": {
        "colab": {
          "base_uri": "https://localhost:8080/"
        },
        "id": "X5EZS0j_JPuz",
        "outputId": "8f654a4c-1468-4040-eb11-d68292475fe0"
      },
      "execution_count": null,
      "outputs": [
        {
          "output_type": "stream",
          "name": "stdout",
          "text": [
            "Pyt\n"
          ]
        }
      ]
    },
    {
      "cell_type": "code",
      "source": [
        "#4. Write a code to convert the string \"hello\" to uppercase\n",
        "string = \"hello\"\n",
        "print(string.upper())\n"
      ],
      "metadata": {
        "colab": {
          "base_uri": "https://localhost:8080/"
        },
        "id": "nNcbkOUQJd6Y",
        "outputId": "52440705-f948-4cd1-adc2-629c0a705015"
      },
      "execution_count": null,
      "outputs": [
        {
          "output_type": "stream",
          "name": "stdout",
          "text": [
            "HELLO\n"
          ]
        }
      ]
    },
    {
      "cell_type": "code",
      "source": [
        "#5.  Write a code to replace the word \"apple\" with \"orange\" in the string \"I like apple\".\n",
        "string = \"I like apple\"\n",
        "print(string.replace(\"apple\",\"orange\"))"
      ],
      "metadata": {
        "colab": {
          "base_uri": "https://localhost:8080/"
        },
        "id": "hFpitRTYJns-",
        "outputId": "6e7400a2-1741-4ef1-ab4a-7f56b6e3e786"
      },
      "execution_count": null,
      "outputs": [
        {
          "output_type": "stream",
          "name": "stdout",
          "text": [
            "I like orange\n"
          ]
        }
      ]
    },
    {
      "cell_type": "code",
      "source": [
        "#6. Write a code to create a list with numbers 1 to 5 and print it\n",
        "list1= [1,2,3,4,5]\n",
        "print(list1)\n"
      ],
      "metadata": {
        "colab": {
          "base_uri": "https://localhost:8080/"
        },
        "id": "UOcO7Pk-JtoP",
        "outputId": "7b3def35-ae02-49be-cca0-35d1ea28b994"
      },
      "execution_count": null,
      "outputs": [
        {
          "output_type": "stream",
          "name": "stdout",
          "text": [
            "[1, 2, 3, 4, 5]\n"
          ]
        }
      ]
    },
    {
      "cell_type": "code",
      "source": [
        "#7.  Write a code to append the number 10 to the list [1, 2, 3, 4]\n",
        "list1 = [1,2,3,4]\n",
        "list1.append(10)\n",
        "print(list1)"
      ],
      "metadata": {
        "colab": {
          "base_uri": "https://localhost:8080/"
        },
        "id": "kUGDlb8YJ1T7",
        "outputId": "ee62a861-ebf6-4379-9dad-d7bbf33fe28b"
      },
      "execution_count": null,
      "outputs": [
        {
          "output_type": "stream",
          "name": "stdout",
          "text": [
            "[1, 2, 3, 4, 10]\n"
          ]
        }
      ]
    },
    {
      "cell_type": "code",
      "source": [
        "#8. Write a code to remove the number 3 from the list [1, 2, 3, 4, 5]\n",
        "list1 = [1,2,3,4,5]\n",
        "list1.remove(3)\n",
        "print(list1)"
      ],
      "metadata": {
        "colab": {
          "base_uri": "https://localhost:8080/"
        },
        "id": "7SJVRtCwJ5Ze",
        "outputId": "bcc7ba7d-abd2-4c67-de27-91ab4577591a"
      },
      "execution_count": null,
      "outputs": [
        {
          "output_type": "stream",
          "name": "stdout",
          "text": [
            "[1, 2, 4, 5]\n"
          ]
        }
      ]
    },
    {
      "cell_type": "code",
      "source": [
        "#9. Write a code to access the second element in the list ['a', 'b', 'c', 'd']\n",
        "list1 = ['a','b','c','d']\n",
        "print(list1[1])\n"
      ],
      "metadata": {
        "colab": {
          "base_uri": "https://localhost:8080/"
        },
        "id": "oKJT8OCEJ_hd",
        "outputId": "f25b114a-f1ba-4dbe-8e4a-8efbb76b351b"
      },
      "execution_count": null,
      "outputs": [
        {
          "output_type": "stream",
          "name": "stdout",
          "text": [
            "b\n"
          ]
        }
      ]
    },
    {
      "cell_type": "code",
      "source": [
        "# 10.Write a code to reverse the list [10, 20, 30, 40, 50]\n",
        "list1 = [10,20,30,40,50]\n",
        "list1.reverse()\n",
        "print(list1)\n"
      ],
      "metadata": {
        "colab": {
          "base_uri": "https://localhost:8080/"
        },
        "id": "D9qvy3GsKCmI",
        "outputId": "036aadff-d9c3-4ba1-86b0-318f9d9cc147"
      },
      "execution_count": null,
      "outputs": [
        {
          "output_type": "stream",
          "name": "stdout",
          "text": [
            "[50, 40, 30, 20, 10]\n"
          ]
        }
      ]
    },
    {
      "cell_type": "code",
      "source": [
        "#11. Write a code to create a tuple with the elements 10, 20, 30 and print it\n",
        "tuple1 = (10,20,30)\n",
        "print(tuple1)"
      ],
      "metadata": {
        "colab": {
          "base_uri": "https://localhost:8080/"
        },
        "id": "0KWfifxSKJZ2",
        "outputId": "b066a436-77e8-4838-b247-af0512067085"
      },
      "execution_count": null,
      "outputs": [
        {
          "output_type": "stream",
          "name": "stdout",
          "text": [
            "(10, 20, 30)\n"
          ]
        }
      ]
    },
    {
      "cell_type": "code",
      "source": [
        "#12. Write a code to access the first element of the tuple ('apple', 'banana', 'cherry')\n",
        "tuple1 = ('apple','banana','cherry')\n",
        "print(tuple1[0])"
      ],
      "metadata": {
        "colab": {
          "base_uri": "https://localhost:8080/"
        },
        "id": "3hgLkTR4KRoG",
        "outputId": "046ba8fd-d477-4c27-e705-21917fdece9a"
      },
      "execution_count": null,
      "outputs": [
        {
          "output_type": "stream",
          "name": "stdout",
          "text": [
            "apple\n"
          ]
        }
      ]
    },
    {
      "cell_type": "code",
      "source": [
        "#13. Write a code to count how many times the number 2 appears in the tuple (1, 2, 3, 2, 4, 2)\n",
        "tuple1 = (1,2,3,2,4,2)\n",
        "print(tuple1.count(2))"
      ],
      "metadata": {
        "colab": {
          "base_uri": "https://localhost:8080/"
        },
        "id": "9rYrJ0H2KWil",
        "outputId": "7c3b19b4-5159-4a17-b74a-ed282f8df5b0"
      },
      "execution_count": null,
      "outputs": [
        {
          "output_type": "stream",
          "name": "stdout",
          "text": [
            "3\n"
          ]
        }
      ]
    },
    {
      "cell_type": "code",
      "source": [
        "#14.  Write a code to find the index of the element \"cat\" in the tuple ('dog', 'cat', 'rabbit')\n",
        "tuple1 = ('dog','cat','rabbit')\n",
        "print(tuple1.index('cat'))"
      ],
      "metadata": {
        "colab": {
          "base_uri": "https://localhost:8080/"
        },
        "id": "vrGiLR22KdwA",
        "outputId": "21d21887-a08a-4f00-f368-d762ac21a596"
      },
      "execution_count": null,
      "outputs": [
        {
          "output_type": "stream",
          "name": "stdout",
          "text": [
            "1\n"
          ]
        }
      ]
    },
    {
      "cell_type": "code",
      "source": [
        "#15. Write a code to check if the element \"banana\" is in the tuple ('apple', 'orange', 'banana')\n",
        "tuple1 = ('apple','orange','banana')\n",
        "print('banana' in tuple1)\n"
      ],
      "metadata": {
        "colab": {
          "base_uri": "https://localhost:8080/"
        },
        "id": "Hwx8a09EKjGZ",
        "outputId": "8d5c2f73-5efa-40e8-b22b-ae10a184a91a"
      },
      "execution_count": null,
      "outputs": [
        {
          "output_type": "stream",
          "name": "stdout",
          "text": [
            "True\n"
          ]
        }
      ]
    },
    {
      "cell_type": "code",
      "source": [
        "#16. Write a code to create a set with the elements 1, 2, 3, 4, 5 and print it\n",
        "set1 = {1,2,3,4,5}\n",
        "print(set1)"
      ],
      "metadata": {
        "colab": {
          "base_uri": "https://localhost:8080/"
        },
        "id": "CARTvPduKpQr",
        "outputId": "958c0f39-9875-46b7-f0cf-4e4b78a79a2b"
      },
      "execution_count": null,
      "outputs": [
        {
          "output_type": "stream",
          "name": "stdout",
          "text": [
            "{1, 2, 3, 4, 5}\n"
          ]
        }
      ]
    },
    {
      "cell_type": "code",
      "source": [
        "#17. Write a code to add the element 6 to the set {1, 2, 3, 4}\n",
        "set1 = {1,2,3,4}\n",
        "set1.add(6)\n",
        "print(set1)"
      ],
      "metadata": {
        "colab": {
          "base_uri": "https://localhost:8080/"
        },
        "id": "NQ0VvRnDKt7-",
        "outputId": "41cb7424-b152-41ec-fa77-134f671d3b12"
      },
      "execution_count": null,
      "outputs": [
        {
          "output_type": "stream",
          "name": "stdout",
          "text": [
            "{1, 2, 3, 4, 6}\n"
          ]
        }
      ]
    },
    {
      "cell_type": "code",
      "source": [
        "#18.  Write a code to create a tuple with the elements 10, 20, 30 and print it\n",
        "tuple1 = (10,20,30)\n",
        "print(tuple1)"
      ],
      "metadata": {
        "id": "kmgf17fhK0Vt"
      },
      "execution_count": null,
      "outputs": []
    },
    {
      "cell_type": "code",
      "source": [
        "#19. Write a code to access the first element of the tuple ('apple', 'banana', 'cherry').\n",
        "tuple1 = ('apple','banana','cherry')\n",
        "print(tuple1[0])"
      ],
      "metadata": {
        "id": "ITrutg5PK7Xz"
      },
      "execution_count": null,
      "outputs": []
    },
    {
      "cell_type": "code",
      "source": [
        "#20. Write a code to count how many times the number 2 appears in the tuple (1, 2, 3, 2, 4, 2)\n",
        "tuple1 = (1,2,3,2,4,2)\n",
        "print(tuple1.count(2))\n"
      ],
      "metadata": {
        "id": "KMTfPh3YK_zX"
      },
      "execution_count": null,
      "outputs": []
    },
    {
      "cell_type": "code",
      "source": [
        "#21. Write a code to find the index of the element \"cat\" in the tuple ('dog', 'cat', 'rabbit')\n",
        "tuple1 = ('dog','cat','rabbit')\n",
        "print(tuple1.index('cat'))"
      ],
      "metadata": {
        "id": "QGpylW_0LNzy"
      },
      "execution_count": null,
      "outputs": []
    },
    {
      "cell_type": "code",
      "source": [
        "#22. Write a code to check if the element \"banana\" is in the tuple ('apple', 'orange', 'banana')\n",
        "tuple1 = ('apple','orange','banana')\n",
        "print('banana' in tuple1)"
      ],
      "metadata": {
        "id": "HW4LTtRjLSK1"
      },
      "execution_count": null,
      "outputs": []
    },
    {
      "cell_type": "code",
      "source": [
        "#23.  Write a code to create a set with the elements 1, 2, 3, 4, 5 and print it\n",
        "set1 = {1,2,3,4,5}\n",
        "print(set1)\n"
      ],
      "metadata": {
        "id": "PpvjjLbtLWyP"
      },
      "execution_count": null,
      "outputs": []
    },
    {
      "cell_type": "code",
      "source": [
        "#24 . Write a code to add the element 6 to the set {1, 2, 3, 4}\n",
        "set1 = {1,2,3,4}\n",
        "set1.add(6)\n",
        "print(set1)"
      ],
      "metadata": {
        "id": "z3UZUxz4LgDO"
      },
      "execution_count": null,
      "outputs": []
    }
  ]
}